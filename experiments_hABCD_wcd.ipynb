{
 "cells": [
  {
   "cell_type": "code",
   "execution_count": null,
   "id": "8e8f7051",
   "metadata": {},
   "outputs": [],
   "source": [
    "from sklearn.metrics import adjusted_mutual_info_score as AMI \n",
    "import hypernetx as hnx\n",
    "import hypernetx.algorithms.hypergraph_modularity as hmod\n",
    "from collections import Counter\n",
    "import igraph as ig\n",
    "import pandas as pd\n",
    "import numpy as np\n",
    "import h_louvain as hl\n",
    "import csv\n",
    "import os\n",
    "import random\n",
    "import matplotlib.pyplot as plt\n",
    "import h_louvain_BO as hlbo\n",
    "import pickle\n"
   ]
  },
  {
   "cell_type": "code",
   "execution_count": null,
   "id": "9d2f117c",
   "metadata": {},
   "outputs": [],
   "source": [
    "def build_habcd():\n",
    "    cmd = julia + ' -n ' + str(nodes)\n",
    "    cmd = cmd + ' -d ' + str(deg_exp) + ',' + str(deg_min) + ',' + str(deg_max)\n",
    "    cmd = cmd + ' -c ' + str(com_exp) + ',' + str(com_min) + ',' + str(com_max)\n",
    "    cmd = cmd + ' -x ' + str(xi)\n",
    "    cmd = cmd + ' -q ' + str(edge_sizes[0])\n",
    "    for i in np.arange(1,len(edge_sizes),1):\n",
    "        cmd = cmd + ',' + str(edge_sizes[i])\n",
    "    cmd = cmd + ' -w wcd.txt'\n",
    "    cmd = cmd + ' -s ' + str(seed)\n",
    "    cmd = cmd + ' -o hgwcd >& _temp'     \n",
    "    return cmd"
   ]
  },
  {
   "cell_type": "code",
   "execution_count": null,
   "id": "3739c422",
   "metadata": {},
   "outputs": [],
   "source": [
    "def load_ABCDH_from_file(filename):\n",
    "    with open(filename,\"r\") as f:\n",
    "        rd = csv.reader(f)\n",
    "        lines = list(rd)\n",
    "    Edges = []\n",
    "    for line in lines:\n",
    "        Edges.append(set(line))\n",
    "\n",
    "    HG = hnx.Hypergraph(dict(enumerate(Edges)))\n",
    "    return HG"
   ]
  },
  {
   "cell_type": "code",
   "execution_count": null,
   "id": "0af60de2",
   "metadata": {},
   "outputs": [],
   "source": [
    "def get_AMI(HG,gt,A):\n",
    "    d = hmod.part2dict(A)\n",
    "    A4ami = [d[str(i+1)] for i in range(len(HG.nodes))]\n",
    "    return AMI(gt, A4ami)\n"
   ]
  },
  {
   "cell_type": "code",
   "execution_count": null,
   "id": "a6568c7c",
   "metadata": {},
   "outputs": [],
   "source": [
    "julia = '/Applications/Julia-1.7.app/Contents/Resources/julia/bin/julia --project /Users/francois/ABCD/ABCDHypergraphGenerator/utils/abcdh.jl'\n",
    "\n",
    "nodes = 300\n",
    "deg_min = 5\n",
    "deg_max = 30\n",
    "deg_exp = 2.5\n",
    "com_min = 40\n",
    "com_max = 60\n",
    "com_exp = 1.5\n",
    "edge_sizes = [0,0,0,0,1]\n",
    "#edge_type = 'majority'\n",
    "\n",
    "# ## FCT - experimental modularity function\n"
   ]
  },
  {
   "cell_type": "code",
   "execution_count": null,
   "id": "3b5f789c",
   "metadata": {},
   "outputs": [],
   "source": [
    "xi = 0.2\n",
    "L = []\n",
    "for rep in range(30):\n",
    "    cmd = build_habcd()\n",
    "    os.system(cmd)\n",
    "    seed = rep\n",
    "    random.seed(rep)\n",
    "\n",
    "    with open(\"./hgwcd_he.txt\",\"r\") as f:\n",
    "        rd = csv.reader(f)\n",
    "        lines = list(rd)\n",
    "    Edges = []\n",
    "    for line in lines:\n",
    "        Edges.append(set(line))\n",
    "\n",
    "    with open(\"./hgwcd_assign.txt\", 'r') as file:\n",
    "        gt = [int(line) for line in file]\n",
    "    gt_dict = {str(i+1):gt[i] for i in range(len(gt))}\n",
    "\n",
    "    mc = max(gt)\n",
    "    Nodes = [x for x in gt_dict.keys() if gt_dict[x]>=(mc-1)]\n",
    "    for i in range(25):\n",
    "        Edges.append(set(np.random.choice(Nodes,5,replace=False)))\n",
    "\n",
    "    HG = hnx.Hypergraph(dict(enumerate(Edges)))\n",
    "    \n",
    "    hL = hl.hLouvain(HG, hmod_type=expo, delta_it = 0.0001, delta_phase = 0.0001, random_seed = seed) \n",
    "    A_gt = [x for x in hmod.dict2part(gt_dict) if len(x)>0]\n",
    "    qH_gt = hL.combined_modularity(A_gt, expo, 1)\n",
    "\n",
    "    ## two-section\n",
    "    G = hnx.two_section(HG)\n",
    "    dct = hnx.part2dict(A_gt)\n",
    "    for v in G.vs:\n",
    "        v['gt'] = dct[v['name']]   \n",
    "    qH_ts = -1\n",
    "    for ts_rep in range(5):\n",
    "        ml = G.community_multilevel(weights='weight').membership\n",
    "        q = hL.combined_modularity(hnx.dict2part(dict(zip(G.vs['name'], ml))), expo, 0)\n",
    "        if q > qH_ts:\n",
    "            ami_ts = AMI(G.vs['gt'],ml)\n",
    "            qH_ts = q \n",
    "    V = [ami_ts]\n",
    "    for ex in [0,1,2,3,4,5,6,7,8]:\n",
    "        def expo(d, c):\n",
    "            return (c/d)**(ex/2) if c > d/2 else 0  \n",
    "        hBO = hlbo.hLouvainBO(HG, hmod_type=expo, delta_it=0.0001, delta_phase=0.0001, random_seed = seed)\n",
    "        hBO.set_params(hmod_type=expo, show_bo_table=False,seeds=[rep,rep+100,rep+200, rep+300, rep+400])\n",
    "        df_bo = hBO.hLouvain_perform_BO()\n",
    "        qH_bo = hL.combined_modularity(df_bo[\"A\"].tolist()[0], expo, 1)\n",
    "        ami_bo = get_AMI(HG, gt, df_bo[\"A\"].tolist()[0])\n",
    "        V.append(ami_bo)\n",
    "    L.append(V)\n",
    "    print(V)\n",
    "    fn = 'test_5.pkl'\n",
    "    with open(fn, 'wb') as fp:\n",
    "        pickle.dump(L, fp)\n"
   ]
  }
 ],
 "metadata": {
  "kernelspec": {
   "display_name": "complexnetworks",
   "language": "python",
   "name": "complexnetworks"
  },
  "language_info": {
   "codemirror_mode": {
    "name": "ipython",
    "version": 3
   },
   "file_extension": ".py",
   "mimetype": "text/x-python",
   "name": "python",
   "nbconvert_exporter": "python",
   "pygments_lexer": "ipython3",
   "version": "3.11.5"
  }
 },
 "nbformat": 4,
 "nbformat_minor": 5
}
